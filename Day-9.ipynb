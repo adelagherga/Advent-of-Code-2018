{
 "cells": [
  {
   "cell_type": "markdown",
   "metadata": {},
   "source": [
    "# Part 1 #\n",
    "\n",
    "What is the winning Elf's score?"
   ]
  },
  {
   "cell_type": "code",
   "execution_count": 143,
   "metadata": {},
   "outputs": [
    {
     "name": "stdout",
     "output_type": "stream",
     "text": [
      "winner is:  18\n",
      "winning score is:  386151\n"
     ]
    }
   ],
   "source": [
    "file=open('Day-9-Data.txt',\"r\");\n",
    "\n",
    "text = file.readlines()[0];\n",
    "for i in range(0,len(text.split())):\n",
    "    if text.split()[i] == 'players;':\n",
    "        no_players = int(text.split()[i-1]);\n",
    "    if text.split()[i] == 'points':\n",
    "        last_marble = int(text.split()[i-1]);\n",
    "    \n",
    "#test_no_players = 30;\n",
    "#test_last_marble = 5807;\n",
    "\n",
    "marbles = [0];\n",
    "player = 0\n",
    "score = [0 for i in range(0,no_players)];\n",
    "current_marble = 0;\n",
    "for marble_no in range(1,last_marble+1):\n",
    "    player = (player + 1)%no_players;\n",
    "    if player == 0:\n",
    "        player = no_players;\n",
    "    \n",
    "    if marble_no % 23 == 0: # if the marble number is divisible by 23\n",
    "        score[player-1] = score[player-1] + marble_no;\n",
    "        index07 = (current_marble - 7)%len(marbles);\n",
    "        score[player-1] = score[player-1] + marbles.pop(index07);\n",
    "        current_marble = index07\n",
    "\n",
    "    else:\n",
    "        index0 = (current_marble + 1)%len(marbles);\n",
    "        index1 = (current_marble + 2)%len(marbles);\n",
    "        marbles.insert(index0+1,marble_no);\n",
    "        current_marble = index0+1;\n",
    "\n",
    "winner = score.index(max(score))+1;\n",
    "print(\"winner is: \", winner);\n",
    "print(\"winning score is: \", score[winner-1]);\n"
   ]
  },
  {
   "cell_type": "markdown",
   "metadata": {},
   "source": [
    "# Part 2 #\n",
    "\n",
    "What would the new winning Elf's score be if the number of the last marble were 100 times larger?"
   ]
  },
  {
   "cell_type": "code",
   "execution_count": 28,
   "metadata": {},
   "outputs": [
    {
     "name": "stdout",
     "output_type": "stream",
     "text": [
      "winner is:  390\n",
      "winning score is:  3211264152\n"
     ]
    }
   ],
   "source": [
    "import collections\n",
    "\n",
    "# test\n",
    "#no_players = 9;\n",
    "#last_marble = 25;\n",
    "\n",
    "file=open('Day-9-Data.txt',\"r\");\n",
    "\n",
    "text = file.readlines()[0];\n",
    "for i in range(0,len(text.split())):\n",
    "    if text.split()[i] == 'players;':\n",
    "        no_players = int(text.split()[i-1]);\n",
    "    if text.split()[i] == 'points':\n",
    "        last_marble = int(text.split()[i-1]);\n",
    "        \n",
    "last_marble = last_marble*100;\n",
    "\n",
    "marbles = collections.deque([0]);\n",
    "player = 0\n",
    "score = [0 for i in range(0,no_players)];\n",
    "current_marble = 0;\n",
    "for marble_no in range(1,last_marble+1):\n",
    "    player = (player + 1)%no_players;\n",
    "    if player == 0:\n",
    "        player = no_players;\n",
    "    \n",
    "    if marble_no % 23 == 0: # if the marble number is divisible by 23\n",
    "        score[player-1] = score[player-1] + marble_no;\n",
    "        index07 = (current_marble - 7)%len(marbles);\n",
    "        marbles.rotate(-index07) # rotate marbles so that marble[0] is to be removed\n",
    "        score[player-1] = score[player-1] + marbles.popleft();\n",
    "        current_marble = 0;\n",
    "\n",
    "    else:\n",
    "        index0 = (current_marble + 1)%len(marbles);\n",
    "        index1 = (current_marble + 2)%len(marbles);\n",
    "        marbles.insert(index0+1,marble_no);\n",
    "        current_marble = index0+1;\n",
    "\n",
    "winner = score.index(max(score))+1;\n",
    "print(\"winner is: \", winner);\n",
    "print(\"winning score is: \", score[winner-1]);\n"
   ]
  },
  {
   "cell_type": "code",
   "execution_count": 26,
   "metadata": {},
   "outputs": [
    {
     "data": {
      "text/plain": [
       "deque([19,\n",
       "       2,\n",
       "       24,\n",
       "       20,\n",
       "       25,\n",
       "       10,\n",
       "       21,\n",
       "       5,\n",
       "       22,\n",
       "       11,\n",
       "       1,\n",
       "       12,\n",
       "       6,\n",
       "       13,\n",
       "       3,\n",
       "       14,\n",
       "       7,\n",
       "       15,\n",
       "       0,\n",
       "       16,\n",
       "       8,\n",
       "       17,\n",
       "       4,\n",
       "       18])"
      ]
     },
     "execution_count": 26,
     "metadata": {},
     "output_type": "execute_result"
    }
   ],
   "source": [
    "marbles"
   ]
  },
  {
   "cell_type": "code",
   "execution_count": 24,
   "metadata": {},
   "outputs": [
    {
     "name": "stdout",
     "output_type": "stream",
     "text": [
      "deque([4, 5, 6, 7, 8, 9, 10, 1, 2, 3])\n"
     ]
    }
   ],
   "source": [
    "marbles.rotate(-3); # want to pop 3rd entry, ie. '4'\n",
    "print(marbles)"
   ]
  },
  {
   "cell_type": "code",
   "execution_count": 155,
   "metadata": {},
   "outputs": [
    {
     "data": {
      "text/plain": [
       "{0: 1, 1: 5}"
      ]
     },
     "execution_count": 155,
     "metadata": {},
     "output_type": "execute_result"
    }
   ],
   "source": [
    "marbles"
   ]
  },
  {
   "cell_type": "code",
   "execution_count": null,
   "metadata": {
    "collapsed": true
   },
   "outputs": [],
   "source": []
  }
 ],
 "metadata": {
  "kernelspec": {
   "display_name": "Python 3",
   "language": "python",
   "name": "python3"
  },
  "language_info": {
   "codemirror_mode": {
    "name": "ipython",
    "version": 3
   },
   "file_extension": ".py",
   "mimetype": "text/x-python",
   "name": "python",
   "nbconvert_exporter": "python",
   "pygments_lexer": "ipython3",
   "version": "3.6.3"
  }
 },
 "nbformat": 4,
 "nbformat_minor": 2
}
