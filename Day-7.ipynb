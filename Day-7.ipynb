{
 "cells": [
  {
   "cell_type": "markdown",
   "metadata": {},
   "source": [
    "# Part 1 #\n",
    "            \n",
    "In what order should the steps in your instructions be completed?"
   ]
  },
  {
   "cell_type": "code",
   "execution_count": 119,
   "metadata": {
    "collapsed": true
   },
   "outputs": [],
   "source": [
    "file=open('Day-7-Data.txt',\"r\");\n",
    "\n",
    "text = file.readlines();\n",
    "\n",
    "coords = [];\n",
    "allc = [];\n",
    "for i in text:\n",
    "    x = i.split('Step ')[1][0];\n",
    "    y = i.split('step ')[1][0];\n",
    "    coords.append([ord(x),ord(y)]);\n",
    "\n",
    "coords.sort()\n",
    "for i in coords:\n",
    "    if i[0] not in allc:\n",
    "        allc.append(i[0])\n",
    "    if i[1] not in allc:\n",
    "        allc.append(i[1])\n",
    "allc.sort()\n"
   ]
  },
  {
   "cell_type": "code",
   "execution_count": 120,
   "metadata": {},
   "outputs": [
    {
     "name": "stdout",
     "output_type": "stream",
     "text": [
      "BITRAQVSGUWKXYHMZPOCDLJNFE\n"
     ]
    }
   ],
   "source": [
    "prereq = []\n",
    "for i in allc:\n",
    "    pre = []\n",
    "    for j in coords:\n",
    "        if j[1] == i:\n",
    "            pre.append(j[0])\n",
    "    prereq.append([i,pre])\n",
    "\n",
    "order = [];\n",
    "avail = [];\n",
    "for i in prereq:\n",
    "    if (i[1] == []) and (i[0] not in avail):\n",
    "        avail.append(i[0])\n",
    "        prereq.remove(i)\n",
    "avail.sort();\n",
    "order.append(avail[0]);\n",
    "avail.remove(avail[0]);\n",
    "\n",
    "while len(prereq) > 0:\n",
    "    for i in prereq:\n",
    "        if (i[0] not in order) and all(c in order for c in i[1]) and (i[0] not in avail):\n",
    "            avail.append(i[0]);\n",
    "            prereq.remove(i)\n",
    "            \n",
    "    avail.sort()\n",
    "    order.append(avail[0]);\n",
    "    avail.remove(avail[0]);\n",
    "    \n",
    "final = ''\n",
    "for i in order:\n",
    "    final = final + chr(i)\n",
    "print(final)\n"
   ]
  },
  {
   "cell_type": "markdown",
   "metadata": {},
   "source": [
    "# Part 2 #\n",
    "\n",
    "With 5 workers and the 60+ second step durations described above, how long will it take to complete all of the steps?"
   ]
  },
  {
   "cell_type": "code",
   "execution_count": 125,
   "metadata": {
    "collapsed": true
   },
   "outputs": [],
   "source": [
    "file=open('Day-7-Data.txt',\"r\");\n",
    "\n",
    "text = file.readlines();\n",
    "\n",
    "coords = [];\n",
    "allc = [];\n",
    "for i in text:\n",
    "    x = i.split('Step ')[1][0];\n",
    "    y = i.split('step ')[1][0];\n",
    "    coords.append([ord(x),ord(y)]);\n",
    "\n",
    "coords.sort()\n",
    "for i in coords:\n",
    "    if i[0] not in allc:\n",
    "        allc.append(i[0])\n",
    "    if i[1] not in allc:\n",
    "        allc.append(i[1])\n",
    "allc.sort()\n",
    "\n",
    "prereq = []\n",
    "for i in allc:\n",
    "    pre = []\n",
    "    for j in coords:\n",
    "        if j[1] == i:\n",
    "            pre.append(j[0])\n",
    "    prereq.append([i,pre])\n",
    "    \n",
    "T = [];\n",
    "time = 0;\n",
    "work = [];\n",
    "order = [];\n",
    "\n",
    "avail = [];\n",
    "for i in prereq:\n",
    "    if (i[1] == []) and (i[0] not in avail):\n",
    "        avail.append(i[0])\n",
    "        prereq.remove(i)\n",
    "avail.sort();\n",
    "\n",
    "for i in range(0,5):\n",
    "    if len(avail) != 0:\n",
    "        work.append([avail[0],0]);\n",
    "        avail.remove(avail[0]);\n",
    "\n",
    "while len(work) != 5:\n",
    "    work.append([-1,0]);\n",
    "\n",
    "T.append([time,work,order]);"
   ]
  },
  {
   "cell_type": "code",
   "execution_count": 126,
   "metadata": {},
   "outputs": [
    {
     "name": "stdout",
     "output_type": "stream",
     "text": [
      "869\n"
     ]
    }
   ],
   "source": [
    "while ([w[0] for w in work] != [-1 for w in work]):\n",
    "    ind_t = [];\n",
    "    for i in range(0,5):\n",
    "        if (work[i][1] == work[i][0] - 5) and work[i][1] != -1:\n",
    "            ind_t.append(i);\n",
    "    if ind_t != []:\n",
    "        for i in ind_t:\n",
    "            order = order + [work[i][0]];\n",
    "        ToRemove = []\n",
    "        for j in prereq:\n",
    "            if (j[0] not in order) and all(c in order for c in j[1]) and (j[0] not in avail):\n",
    "                avail.append(j[0]);\n",
    "                ToRemove.append(j)\n",
    "        \n",
    "        oldprereq = prereq;\n",
    "        prereq = [];\n",
    "        for j in oldprereq:\n",
    "            if j not in ToRemove:\n",
    "                prereq.append(j);\n",
    "\n",
    "        avail.sort();\n",
    "        oldwork = work;\n",
    "        work = [];\n",
    "        for j in range(0,5):\n",
    "            if j in ind_t:\n",
    "                if len(avail) != 0:\n",
    "                    work.append([avail[0],0])\n",
    "                    avail.remove(avail[0])\n",
    "                else:\n",
    "                    work.append([-1,0]);\n",
    "            elif (oldwork[j][0] == -1) and (len(avail) != 0):\n",
    "                work.append([avail[0],0])\n",
    "                avail.remove(avail[0])\n",
    "            else:\n",
    "                work.append([oldwork[j][0],oldwork[j][1]+1]);\n",
    "        time = time + 1;\n",
    "        T.append([time,work,order]);\n",
    "    else:\n",
    "        time = time + 1;\n",
    "        oldwork = work;\n",
    "        work = [];\n",
    "        for j in range(0,5):\n",
    "            work.append([oldwork[j][0],oldwork[j][1]+1]);\n",
    "        T.append([time,work,order]);\n",
    "print(T[len(T)-1][0])"
   ]
  }
 ],
 "metadata": {
  "kernelspec": {
   "display_name": "Python 3",
   "language": "python",
   "name": "python3"
  },
  "language_info": {
   "codemirror_mode": {
    "name": "ipython",
    "version": 3
   },
   "file_extension": ".py",
   "mimetype": "text/x-python",
   "name": "python",
   "nbconvert_exporter": "python",
   "pygments_lexer": "ipython3",
   "version": "3.6.3"
  }
 },
 "nbformat": 4,
 "nbformat_minor": 2
}
