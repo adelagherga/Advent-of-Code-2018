{
 "cells": [
  {
   "cell_type": "markdown",
   "metadata": {},
   "source": [
    "# Part 1 #\n",
    "\n",
    "What is the size of the largest area that isn't infinite? "
   ]
  },
  {
   "cell_type": "code",
   "execution_count": 134,
   "metadata": {
    "collapsed": true
   },
   "outputs": [],
   "source": [
    "file=open('Day-6-Data.txt',\"r\");\n",
    "\n",
    "text = file.readlines();\n",
    "\n",
    "coords =[]\n",
    "for i in text:\n",
    "    i = i.replace('\\n','');\n",
    "    x = [int(i.split(',')[0]),int(i.split(',')[1])];\n",
    "    coords.append(x); # lists the coordinates\n",
    "    \n",
    "#coords = [[1,1],[1,6], [8,3], [3,4], [5,5], [8,9]] # test coordinates\n",
    "Max = max([max(x) for x in coords]) + 1; # determines the largest coordinate"
   ]
  },
  {
   "cell_type": "code",
   "execution_count": 143,
   "metadata": {
    "collapsed": true
   },
   "outputs": [],
   "source": [
    "L = [[] for i in range(0,Max)] # generates a matrix with nearest neighbours\n",
    "for i in range(0,Max):\n",
    "    L[i] = [[] for j in range(0,Max)];\n",
    "    for j in range(0,Max):\n",
    "        dists = [];\n",
    "        for k in range(0,len(coords)):\n",
    "            dists.append([k,(abs(coords[k][0]-j) + abs(coords[k][1]-i))]);\n",
    "        closest = min([l[1] for l in dists]);\n",
    "\n",
    "        for l in dists:\n",
    "            if l[1] == closest:\n",
    "                L[i][j].append(l[0])\n",
    "        \n",
    "        if len(L[i][j]) == 1:\n",
    "            L[i][j] = L[i][j][0]\n",
    "        else:\n",
    "            L[i][j] = -1 # lists L[i][j] as '-1' if more than 1 coordinate is close to L[i][j]"
   ]
  },
  {
   "cell_type": "code",
   "execution_count": 147,
   "metadata": {
    "collapsed": true
   },
   "outputs": [],
   "source": [
    "def Columns(k,L):\n",
    "    edges = [];\n",
    "    for x in L[k]:\n",
    "        if x != -1:\n",
    "            if x not in edges:\n",
    "                edges.append(x)\n",
    "\n",
    "    return edges;\n",
    "\n",
    "def Rows(k,L):\n",
    "    edges= [];\n",
    "    for x in range(0,len(L)):\n",
    "        if L[x][k] != -1:\n",
    "            if L[x][k] not in edges:\n",
    "                edges.append(L[x][k]);\n",
    "    return edges;\n",
    "\n",
    "edges = []; # stores the entries along the edges; these places are infinite\n",
    "for x in Columns(0,L):\n",
    "    if x not in edges:\n",
    "        edges.append(x);\n",
    "\n",
    "for x in Columns(Max-1,L):\n",
    "    if x not in edges:\n",
    "        edges.append(x);\n",
    "\n",
    "for x in Rows(0,L):\n",
    "    if x not in edges:\n",
    "        edges.append(x);\n",
    "\n",
    "for x in Rows(Max-1,L):\n",
    "    if x not in edges:\n",
    "        edges.append(x);\n"
   ]
  },
  {
   "cell_type": "code",
   "execution_count": 153,
   "metadata": {},
   "outputs": [
    {
     "name": "stdout",
     "output_type": "stream",
     "text": [
      "3909\n"
     ]
    }
   ],
   "source": [
    "count = [];\n",
    "total = 0\n",
    "for x in range(0, len(coords)):\n",
    "    if x not in edges:\n",
    "        count_x = 0    \n",
    "        for i in range(0,Max):\n",
    "            for j in range(0,Max):\n",
    "                if L[i][j] == x:\n",
    "                    count_x = count_x + 1;\n",
    "        count.append([count_x,x])\n",
    "        total = total + count_x\n",
    "print(max(count)[0]) # returns the size of the largest area that is not infinite"
   ]
  },
  {
   "cell_type": "markdown",
   "metadata": {},
   "source": [
    "# Part 2 #\n",
    "\n",
    "What is the size of the region containing all locations which have a total distance to all given coordinates of less than 10000?"
   ]
  },
  {
   "cell_type": "code",
   "execution_count": 218,
   "metadata": {
    "collapsed": true
   },
   "outputs": [],
   "source": [
    "file=open('Day-6-Data.txt',\"r\");\n",
    "\n",
    "text = file.readlines();\n",
    "\n",
    "coords =[]\n",
    "for i in text:\n",
    "    i = i.replace('\\n','');\n",
    "    x = [int(i.split(',')[0]),int(i.split(',')[1])];\n",
    "    coords.append(x); # lists the coordinates\n",
    "    \n",
    "#coords = [[1,1],[1,6], [8,3], [3,4], [5,5], [8,9]] # test coordinates\n",
    "Max = max([max(x) for x in coords]) + 1; # determines the largest coordinate"
   ]
  },
  {
   "cell_type": "code",
   "execution_count": 226,
   "metadata": {
    "collapsed": true
   },
   "outputs": [],
   "source": [
    "L = [[] for i in range(0,Max)] # generates a matrix with distances < 10000\n",
    "for i in range(0,Max):\n",
    "    L[i] = [[] for j in range(0,Max)];\n",
    "    for j in range(0,Max):\n",
    "        dists = [];\n",
    "        for k in range(0,len(coords)):\n",
    "            dists.append(abs(coords[k][0]-j) + abs(coords[k][1]-i));\n",
    "        if sum(dists) < 10000:\n",
    "        #if sum(dists) < 32:\n",
    "            L[i][j] = sum(dists)"
   ]
  },
  {
   "cell_type": "code",
   "execution_count": 227,
   "metadata": {
    "collapsed": true
   },
   "outputs": [],
   "source": [
    "safe = []\n",
    "for i in range(0,Max):\n",
    "    for j in range(0,Max):\n",
    "        if L[i][j] != []:\n",
    "           safe.append([i,j]) # determines which regions have distances < 10000\n",
    "\n"
   ]
  },
  {
   "cell_type": "code",
   "execution_count": 228,
   "metadata": {
    "collapsed": true
   },
   "outputs": [],
   "source": [
    "regions = [[safe[0]]]; # generates the list of regions that are safe\n",
    "for s in safe:\n",
    "    r = 0;\n",
    "    while r < len(regions):\n",
    "        R = regions[r]\n",
    "        R0 = [x[0] for x in R];\n",
    "        R1 = [x[1] for x in R];\n",
    "        if (s[0] + 1 in R0) or (s[0] - 1 in R0) or (s[1] + 1 in R1) or (s[1] - 1 in R1):\n",
    "            R.append(s)\n",
    "            r = 10*len(regions);\n",
    "        else:\n",
    "            r = r + 1;\n",
    "        \n",
    "        if r == len(regions) - 1:\n",
    "            regions.append([s])\n",
    "            r = r + 1;\n",
    "            \n",
    "print(max([len(r) for r in regions]))"
   ]
  }
 ],
 "metadata": {
  "kernelspec": {
   "display_name": "Python 3",
   "language": "python",
   "name": "python3"
  },
  "language_info": {
   "codemirror_mode": {
    "name": "ipython",
    "version": 3
   },
   "file_extension": ".py",
   "mimetype": "text/x-python",
   "name": "python",
   "nbconvert_exporter": "python",
   "pygments_lexer": "ipython3",
   "version": "3.6.3"
  }
 },
 "nbformat": 4,
 "nbformat_minor": 2
}
