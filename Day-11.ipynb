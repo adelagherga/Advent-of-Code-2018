{
 "cells": [
  {
   "cell_type": "markdown",
   "metadata": {},
   "source": [
    "# Part 1 #\n",
    "\n",
    "What is the X,Y coordinate of the top-left fuel cell of the 3x3 square with the largest total power?\n",
    "\n",
    "The power level in a given fuel cell can be found through the following process:\n",
    "* Find the fuel cell's rack ID, which is its X coordinate plus 10.\n",
    "* Begin with a power level of the rack ID times the Y coordinate.\n",
    "* Increase the power level by the value of the grid serial number (your puzzle input).\n",
    "* Set the power level to itself multiplied by the rack ID.\n",
    "* Keep only the hundreds digit of the power level (so 12345 becomes 3; numbers with no hundreds digit become 0).\n",
    "* Subtract 5 from the power level."
   ]
  },
  {
   "cell_type": "code",
   "execution_count": 190,
   "metadata": {},
   "outputs": [
    {
     "name": "stdout",
     "output_type": "stream",
     "text": [
      "235 31\n"
     ]
    }
   ],
   "source": [
    "import re\n",
    "import numpy as np\n",
    "\n",
    "serial_id = 8772\n",
    "grid = np.zeros( (300, 300), dtype = int)\n",
    "\n",
    "for x in range(300):\n",
    "    for y in range(300):\n",
    "        rack_id = x + 11\n",
    "        power = (rack_id*(y+1) + serial_id)*rack_id;\n",
    "        power_str = str(power)\n",
    "        if len(power_str) < 3:\n",
    "            power = -5\n",
    "        else:\n",
    "            power = int(power_str[len(power_str) - 3]) - 5\n",
    "        grid[x,y] = power\n",
    "\n",
    "squares = np.zeros( (298, 298), dtype = int)\n",
    "for x in range(298):\n",
    "    for y in range(298):\n",
    "        squares[x,y] = np.sum(grid[x:x+3,y:y+3])\n",
    "\n",
    "(X,Y) = np.unravel_index(squares.argmax(), squares.shape)\n",
    "X = X + 1;\n",
    "Y = Y + 1;\n",
    "print(X,Y)"
   ]
  },
  {
   "cell_type": "markdown",
   "metadata": {},
   "source": [
    "# Part 2 #\n",
    "\n",
    "What is the X,Y,size identifier of the square with the largest total power?"
   ]
  },
  {
   "cell_type": "code",
   "execution_count": 191,
   "metadata": {},
   "outputs": [
    {
     "name": "stdout",
     "output_type": "stream",
     "text": [
      "241 65 10\n"
     ]
    }
   ],
   "source": [
    "serial_id = 8772\n",
    "grid = np.zeros( (300, 300), dtype = int)\n",
    "\n",
    "for x in range(300):\n",
    "    for y in range(300):\n",
    "        rack_id = x + 11\n",
    "        power = (rack_id*(y+1) + serial_id)*rack_id;\n",
    "        power_str = str(power)\n",
    "        if len(power_str) < 3:\n",
    "            power = -5\n",
    "        else:\n",
    "            power = int(power_str[len(power_str) - 3]) - 5\n",
    "        grid[x,y] = power\n",
    "\n",
    "\n",
    "biggest_so_far = 0\n",
    "\n",
    "for s in range(1,301):\n",
    "    squares = np.zeros( (301-s, 301-s), dtype = int)\n",
    "    for x in range(301-s):\n",
    "        for y in range(301-s):\n",
    "            squares[x,y] = np.sum(grid[x:x+s,y:y+s])\n",
    "    if np.max(squares) > biggest_so_far:\n",
    "        biggest_so_far = np.max(squares)\n",
    "        (X,Y) = np.unravel_index(squares.argmax(), squares.shape)\n",
    "        X = X + 1;\n",
    "        Y = Y + 1;\n",
    "        size = s\n",
    "print(X,Y,size)          \n",
    "        "
   ]
  }
 ],
 "metadata": {
  "kernelspec": {
   "display_name": "Python 3",
   "language": "python",
   "name": "python3"
  },
  "language_info": {
   "codemirror_mode": {
    "name": "ipython",
    "version": 3
   },
   "file_extension": ".py",
   "mimetype": "text/x-python",
   "name": "python",
   "nbconvert_exporter": "python",
   "pygments_lexer": "ipython3",
   "version": "3.6.3"
  }
 },
 "nbformat": 4,
 "nbformat_minor": 2
}
