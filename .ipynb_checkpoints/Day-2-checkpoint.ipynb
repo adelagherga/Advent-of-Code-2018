{
 "cells": [
  {
   "cell_type": "markdown",
   "metadata": {},
   "source": [
    "# Part 1\n",
    "What is the checksum for your list of box IDs?"
   ]
  },
  {
   "cell_type": "code",
   "execution_count": 68,
   "metadata": {},
   "outputs": [
    {
     "name": "stdout",
     "output_type": "stream",
     "text": [
      "4693\n"
     ]
    }
   ],
   "source": [
    "import collections\n",
    "file=open('Day-2-Data.txt',\"r\");\n",
    "\n",
    "twos = 0;\n",
    "threes = 0;\n",
    "\n",
    "for line in file:\n",
    "    my_dict = {line.count(i) for i in line};\n",
    "    if 2 in my_dict:\n",
    "        twos = twos + 1;\n",
    "    if 3 in my_dict:\n",
    "        threes = threes + 1;\n",
    "        \n",
    "checksum = twos*threes;\n",
    "print(checksum)\n",
    "\n",
    "file.close()"
   ]
  },
  {
   "cell_type": "markdown",
   "metadata": {},
   "source": [
    "# Part 2\n",
    "\n",
    "What letters are common between the two correct box IDs? (In the example above, this is found by removing the differing character from either ID, producing fgij.)"
   ]
  },
  {
   "cell_type": "code",
   "execution_count": 269,
   "metadata": {},
   "outputs": [
    {
     "name": "stdout",
     "output_type": "stream",
     "text": [
      "pebjqsalrdnckzfihvtxysomg\n"
     ]
    }
   ],
   "source": [
    "import difflib\n",
    "\n",
    "file=open('Day-2-Data.txt',\"r\");\n",
    "text = file.readlines();\n",
    "num_lines = len(text); # computes the number of lines in the file\n",
    "\n",
    "total_lens = [];\n",
    "for i in range(0,num_lines-1):\n",
    "    for j in range(i+1, num_lines-1):\n",
    "        seq = difflib.SequenceMatcher(None,text[i],text[j]); # computes the ratio of similarity between 2 strings\n",
    "        d = seq.ratio()*100; # writes the ratio as a percentage\n",
    "        total_lens.append([i,j,d]) # stores the indices and percentage\n",
    "\n",
    "lens = [x[2] for x in total_lens]  # stores the percentages\n",
    "ind = lens.index(max(lens))  # computes the index of the finds the best match\n",
    "best_match = total_lens[ind] # computes the best match\n",
    "\n",
    "    # computes and stores only the common letters between the best match\n",
    "diffs = [li for li in difflib.ndiff(text[best_match[0]],text[best_match[1]]) if li[0] == ' ' and li != '  \\n']\n",
    "\n",
    "common = ''\n",
    "for i in diffs:\n",
    "    common = common + i;     # adds common characters together\n",
    "print(common.replace(' ', ''))     # removes whitespace"
   ]
  }
 ],
 "metadata": {
  "kernelspec": {
   "display_name": "Python 3",
   "language": "python",
   "name": "python3"
  },
  "language_info": {
   "codemirror_mode": {
    "name": "ipython",
    "version": 3
   },
   "file_extension": ".py",
   "mimetype": "text/x-python",
   "name": "python",
   "nbconvert_exporter": "python",
   "pygments_lexer": "ipython3",
   "version": "3.6.3"
  }
 },
 "nbformat": 4,
 "nbformat_minor": 2
}
