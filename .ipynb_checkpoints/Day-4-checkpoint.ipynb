{
 "cells": [
  {
   "cell_type": "markdown",
   "metadata": {},
   "source": [
    "# Part 1\n",
    "\n",
    "### Strategy 1:### \n",
    "Find the guard that has the most minutes asleep. What minute does that guard spend asleep the most?\n",
    "What is the ID of the guard you chose multiplied by the minute you chose?"
   ]
  },
  {
   "cell_type": "code",
   "execution_count": 388,
   "metadata": {},
   "outputs": [],
   "source": [
    "import re\n",
    "from datetime import datetime\n",
    "file=open('Day-4-Data.txt',\"r\");\n",
    "\n",
    "text = file.readlines();\n",
    "\n",
    "sorted_text = [];\n",
    "for line in text:\n",
    "    line2 = line.replace('[', '');  # removes '[' character at the start of each line\n",
    "    line3 = line2.replace('\\n',''); # removes '\\n' characters at the end of each line\n",
    "    sorted_text.append(line3.split(']')); # separates Year/month/day/hour/minute from action\n",
    "\n",
    "FORMAT = '%Y-%m-%d %H:%M'; \n",
    "    # generates a sorted list based on the 0th entry\n",
    "#dates = sorted(sorted_text, key=lambda d: datetime.strptime(d[0], FORMAT)); \n",
    "dates = sorted([[datetime.strptime(d[0], FORMAT), d[1]] for d in sorted_text]); \n",
    "\n",
    "file.close();"
   ]
  },
  {
   "cell_type": "code",
   "execution_count": 414,
   "metadata": {},
   "outputs": [
    {
     "name": "stdout",
     "output_type": "stream",
     "text": [
      "104764\n"
     ]
    }
   ],
   "source": [
    "import re\n",
    "import numpy as np\n",
    "\n",
    "times = [];\n",
    "num_times = len(dates);\n",
    "\n",
    "ID = re.search('#(.*) begins shift', dates[0][1]).group(1); # finds the guard ID\n",
    "if 0 <= dates[0][0].hour < 1: # ensure the time is between 00:00 - 00:59\n",
    "    TIME = dates[0][0].minute;\n",
    "    DAY = dates[0][0].day;\n",
    "else:\n",
    "    TIME = 0;                 # else offsets so that time is between 00:00 - 00:59\n",
    "    DAY = dates[0][0].day + 1;\n",
    "A = [ID, np.array([1 for i in range(0,60)])]; # generates default array where 1 = asleep, 0 = awake\n",
    "for t in range(0,TIME):\n",
    "    A[1][t] = 0;\n",
    "awake = True;\n",
    "\n",
    "for x in range(1,num_times):\n",
    "    i = dates[x];\n",
    "    if 'begins shift' in i[1]: \n",
    "        for t in range(TIME,60): # marks the remainder of the shift as awake\n",
    "             A[1][t] = 0;\n",
    "        times.append(A);\n",
    "        ID = re.search('#(.*) begins shift', i[1]).group(1); # finds the guard ID\n",
    "        if 0 <= i[0].hour < 1: # ensure the time is between 00:00 - 00:59\n",
    "            TIME = i[0].minute;\n",
    "            DAY = i[0].day;\n",
    "        else:\n",
    "            TIME = 0;                 # else offsets so that time is between 00:00 - 00:59\n",
    "            DAY = i[0].day + 1;\n",
    "        A = [ID, np.array([1 for i in range(0,60)])]; # generates default array where 1 = asleep, 0 = awake\n",
    "        for t in range(0,TIME):\n",
    "            A[1][t] = 0;\n",
    "        awake = True;\n",
    "\n",
    "    if i[0].day == DAY: # if the day has not changed\n",
    "        if awake and 'falls asleep' in i[1]:\n",
    "            for t in range(TIME,i[0].minute):\n",
    "                A[1][t] = 0;\n",
    "            TIME = i[0].minute;\n",
    "            awake = False;\n",
    "        elif not awake and 'wakes up' in i[1]:\n",
    "            TIME = i[0].minute;\n",
    "            awake = True;\n",
    "    if x == num_times - 1: # if the end of the log is reached\n",
    "        for t in range(TIME,60):\n",
    "             A[1][t] = 0;\n",
    "        times.append(A);\n",
    "\n",
    "IDs = []; # stores all guard IDs\n",
    "for t in times:\n",
    "    if t[0] not in IDs:\n",
    "        IDs.append(t[0]);\n",
    "        \n",
    "TOTAL = []; # stores the total hours slept\n",
    "for ID in IDs:\n",
    "    mins_asleep = np.array([0 for i in range(0,60)]);\n",
    "    for t in times:\n",
    "        if t[0] == ID:\n",
    "            mins_asleep = mins_asleep + t[1];\n",
    "    TOTAL.append([ID, mins_asleep]); \n",
    "\n",
    "total_slept = [sum(t[1]) for t in TOTAL]; # deteremines the total minutes slept by each guard\n",
    "slept_most = total_slept.index(max(total_slept)); # determines the index of the guard which slept the most\n",
    "\n",
    "most = (np.where(TOTAL[slept_most][1] == max(TOTAL[slept_most][1])))\n",
    "if len(most) == 1:\n",
    "    print(int(TOTAL[slept_most][0])*most[0][0])\n"
   ]
  },
  {
   "cell_type": "markdown",
   "metadata": {},
   "source": [
    "# Part 2 #\n",
    "\n",
    "### Strategy 2: ### \n",
    "Of all guards, which guard is most frequently asleep on the same minute?\n",
    "What is the ID of the guard you chose multiplied by the minute you chose?"
   ]
  },
  {
   "cell_type": "code",
   "execution_count": 445,
   "metadata": {},
   "outputs": [
    {
     "name": "stdout",
     "output_type": "stream",
     "text": [
      "128617\n"
     ]
    }
   ],
   "source": [
    "IDs = []\n",
    "for t in times:\n",
    "    if t[0] not in IDs:\n",
    "        IDs.append(t[0])\n",
    "TOTAL = []\n",
    "for ID in IDs:\n",
    "    most_asleep = np.array([0 for i in range(0,60)]);\n",
    "    for t in times:\n",
    "        if t[0] == ID:\n",
    "            most_asleep = most_asleep + t[1]\n",
    "    TOTAL.append([ID, most_asleep])\n",
    "\n",
    "total_slept = [max(t[1]) for t in TOTAL]; # deteremines the minute most frequently slept on for each guard\n",
    "slept_most = total_slept.index(max(total_slept)); # determines the index of the guard\n",
    "\n",
    "most = (np.where(TOTAL[slept_most][1] == max(TOTAL[slept_most][1])))\n",
    "if len(most) == 1:\n",
    "    print(int(TOTAL[slept_most][0])*most[0][0])\n"
   ]
  }
 ],
 "metadata": {
  "kernelspec": {
   "display_name": "Python 3",
   "language": "python",
   "name": "python3"
  },
  "language_info": {
   "codemirror_mode": {
    "name": "ipython",
    "version": 3
   },
   "file_extension": ".py",
   "mimetype": "text/x-python",
   "name": "python",
   "nbconvert_exporter": "python",
   "pygments_lexer": "ipython3",
   "version": "3.6.3"
  }
 },
 "nbformat": 4,
 "nbformat_minor": 2
}
