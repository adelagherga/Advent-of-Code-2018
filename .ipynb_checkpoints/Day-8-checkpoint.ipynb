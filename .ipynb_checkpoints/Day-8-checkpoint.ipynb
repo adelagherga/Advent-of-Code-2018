{
 "cells": [
  {
   "cell_type": "markdown",
   "metadata": {},
   "source": [
    "# Part 1 #\n",
    "\n",
    "What is the sum of all metadata entries?"
   ]
  },
  {
   "cell_type": "code",
   "execution_count": 268,
   "metadata": {},
   "outputs": [
    {
     "name": "stdout",
     "output_type": "stream",
     "text": [
      "40701\n"
     ]
    }
   ],
   "source": [
    "file=open('Day-8-Data.txt',\"r\");\n",
    "\n",
    "text = file.readlines()[0];\n",
    "#test = \"2 3 0 3 10 11 12 1 1 0 1 99 2 1 1 2\";\n",
    "raw = [int(i) for i in text.split()];\n",
    "\n",
    "def search_through_tree(i,metadata):    \n",
    "    children = raw[i];\n",
    "    metadata_no = raw[i+1];\n",
    "    i = i + 2;\n",
    "    \n",
    "    if children == 0:\n",
    "        metadata.append([raw[j] for j in range(i,i+metadata_no)]);\n",
    "        i = i + metadata_no;\n",
    "    else:\n",
    "        for j in range(0,children):\n",
    "            k, metadata = search_through_tree(i,metadata);\n",
    "            i = k;\n",
    "        \n",
    "        metadata.append([raw[j] for j in range(i,i+metadata_no)]);\n",
    "        i = i + metadata_no;\n",
    "    return i, metadata;\n",
    "\n",
    "i, metadata = search_through_tree(0,[]);\n",
    "metadata_sum = sum([sum(m) for m in metadata]);\n",
    "print(metadata_sum);        "
   ]
  },
  {
   "cell_type": "markdown",
   "metadata": {},
   "source": [
    "# Part 2 #\n",
    "\n",
    "What is the value of the root node?"
   ]
  },
  {
   "cell_type": "code",
   "execution_count": 269,
   "metadata": {},
   "outputs": [
    {
     "name": "stdout",
     "output_type": "stream",
     "text": [
      "21399\n"
     ]
    }
   ],
   "source": [
    "file=open('Day-8-Data.txt',\"r\");\n",
    "\n",
    "text = file.readlines()[0];\n",
    "#test = \"2 3 0 3 10 11 12 1 1 0 1 99 2 1 1 2\";\n",
    "raw = [int(i) for i in text.split()];\n",
    "\n",
    "def search_through_tree(i,metadata):    \n",
    "    children = raw[i];\n",
    "    metadata_no = raw[i+1];\n",
    "    \n",
    "    i = i + 2;\n",
    "    if children == 0:\n",
    "        meta = [raw[j] for j in range(i,i+metadata_no)];\n",
    "        metadata.append(meta);\n",
    "        value = sum(meta);\n",
    "        i = i + metadata_no;\n",
    "    else:\n",
    "        child_values = [];\n",
    "        for j in range(0,children):\n",
    "            k, metadata, value = search_through_tree(i,metadata);\n",
    "            child_values.append(value);\n",
    "            i = k;\n",
    "            \n",
    "        meta = [raw[j] for j in range(i,i+metadata_no)];\n",
    "        metadata.append(meta);\n",
    "        value = 0;\n",
    "        for k in meta:\n",
    "            if k in range(1,children+1):\n",
    "                value = value + child_values[k-1];\n",
    "                \n",
    "        i = i + metadata_no;\n",
    "        \n",
    "    return i, metadata, value;\n",
    "\n",
    "i, metadata, value = search_through_tree(0,[]);\n",
    "print(value);\n"
   ]
  },
  {
   "cell_type": "code",
   "execution_count": null,
   "metadata": {
    "collapsed": true
   },
   "outputs": [],
   "source": []
  }
 ],
 "metadata": {
  "kernelspec": {
   "display_name": "Python 3",
   "language": "python",
   "name": "python3"
  },
  "language_info": {
   "codemirror_mode": {
    "name": "ipython",
    "version": 3
   },
   "file_extension": ".py",
   "mimetype": "text/x-python",
   "name": "python",
   "nbconvert_exporter": "python",
   "pygments_lexer": "ipython3",
   "version": "3.6.3"
  }
 },
 "nbformat": 4,
 "nbformat_minor": 2
}
