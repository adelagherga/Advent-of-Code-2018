{
 "cells": [
  {
   "cell_type": "markdown",
   "metadata": {},
   "source": [
    "# Part 1\n",
    "\n",
    "\n",
    "If the Elves all proceed with their own plans, none of them will have enough fabric. How many square inches of fabric are within two or more claims?"
   ]
  },
  {
   "cell_type": "code",
   "execution_count": null,
   "metadata": {
    "collapsed": true
   },
   "outputs": [],
   "source": [
    "import re\n",
    "file=open('Day-3-Data.txt',\"r\");\n",
    "\n",
    "text = file.readlines();\n",
    "num_lines = len(text); # computes the number of lines in the file\n",
    "\n",
    "f = [];\n",
    "for i in range(0,num_lines-1):\n",
    "    line = text[i].replace(' ',''); # selects the corresponding line, removing whitespace\n",
    "    ID = re.search('#(.*)@', s).group(1)  # determines the ID number\n",
    "    c = int(re.search('@(.*),', s).group(1))  # determines the left starting point\n",
    "    r = int(re.search(',(.*):', s).group(1))  # determines the top starting point\n",
    "    w = int(re.search(':(.*)x', s).group(1))  # determines the width\n",
    "    h = int(re.search('x(.*)', s).group(1))   # determines the height\n",
    "    for i in range(r, r+h):\n",
    "        for j in range(c, c+w): \n",
    "            f.append([ID,i,j])\n",
    "\n",
    "\n",
    "\n",
    "\n",
    "file.close()"
   ]
  },
  {
   "cell_type": "markdown",
   "metadata": {},
   "source": [
    "# Part 2\n",
    "\n",
    "What is the ID of the only claim that doesn't overlap?"
   ]
  },
  {
   "cell_type": "code",
   "execution_count": 24,
   "metadata": {
    "scrolled": true
   },
   "outputs": [
    {
     "name": "stdout",
     "output_type": "stream",
     "text": [
      "116920\n"
     ]
    }
   ],
   "source": [
    "import re\n",
    "import numpy as np\n",
    "file=open('Day-3-Data.txt',\"r\");\n",
    "\n",
    "text = file.readlines();\n",
    "num_lines = len(text); # computes the number of lines in the file\n",
    "a = numpy.zeros(shape=(1000,1000))\n",
    "\n",
    "for i in range(0,num_lines):\n",
    "    line = text[i].replace(' ',''); # selects the corresponding line, removing whitespace\n",
    "    ID = re.search('#(.*)@', line).group(1)  # determines the ID number\n",
    "    c = int(re.search('@(.*),', line).group(1))  # determines the left starting point\n",
    "    r = int(re.search(',(.*):', line).group(1))  # determines the top starting point\n",
    "    w = int(re.search(':(.*)x', line).group(1))  # determines the width\n",
    "    h = int(re.search('x(.*)', line).group(1))   # determines the height\n",
    "    \n",
    "    for i in range(r, r+h):\n",
    "        for j in range(c, c+w): \n",
    "            if a[i][j] == 0:\n",
    "                a[i][j] = int(ID)\n",
    "            else:\n",
    "                a[i][j] = -1 # marks claimed square inch of fabric\n",
    "\n",
    "overlap = 0; # tallies the overlaped claims\n",
    "for i in range(0,1000):\n",
    "    for j in range(0,1000):\n",
    "        if a[i][j] == -1:\n",
    "            overlap = overlap + 1;\n",
    "            \n",
    "print(overlap);\n",
    "file.close();\n",
    "\n"
   ]
  },
  {
   "cell_type": "code",
   "execution_count": 29,
   "metadata": {},
   "outputs": [
    {
     "name": "stdout",
     "output_type": "stream",
     "text": [
      "382\n"
     ]
    }
   ],
   "source": [
    "import re\n",
    "import numpy as np\n",
    "file=open('Day-3-Data.txt',\"r\");\n",
    "\n",
    "text = file.readlines();\n",
    "num_lines = len(text); # computes the number of lines in the file\n",
    "a = numpy.zeros(shape=(1000,1000))\n",
    "\n",
    "for i in range(0,num_lines):\n",
    "    line = text[i].replace(' ',''); # selects the corresponding line, removing whitespace\n",
    "    ID = re.search('#(.*)@', line).group(1)  # determines the ID number\n",
    "    c = int(re.search('@(.*),', line).group(1))  # determines the left starting point\n",
    "    r = int(re.search(',(.*):', line).group(1))  # determines the top starting point\n",
    "    w = int(re.search(':(.*)x', line).group(1))  # determines the width\n",
    "    h = int(re.search('x(.*)', line).group(1))   # determines the height\n",
    "    s = w*h; # computes the number of square inches claimed by this ID\n",
    "    \n",
    "    for i in range(r, r+h):\n",
    "        for j in range(c, c+w): \n",
    "            if a[i][j] == 0:\n",
    "                a[i][j] = int(ID);\n",
    "            else:\n",
    "                a[i][j] = -1 # marks claimed square inch of fabric\n",
    "\n",
    "for i in range(0,num_lines):\n",
    "    line = text[i].replace(' ',''); # selects the corresponding line, removing whitespace\n",
    "    ID = re.search('#(.*)@', line).group(1)  # determines the ID number\n",
    "    c = int(re.search('@(.*),', line).group(1))  # determines the left starting point\n",
    "    r = int(re.search(',(.*):', line).group(1))  # determines the top starting point\n",
    "    w = int(re.search(':(.*)x', line).group(1))  # determines the width\n",
    "    h = int(re.search('x(.*)', line).group(1))   # determines the height\n",
    "    s = w*h; # computes the number of square inches claimed by this ID\n",
    "    \n",
    "    claim = 0;\n",
    "    for i in range(r, r+h):\n",
    "        for j in range(c, c+w): \n",
    "            if a[i][j] == int(ID):\n",
    "                claim = claim + 1;\n",
    "            \n",
    "    if claim == s:\n",
    "        print(ID)\n",
    "file.close();\n",
    "\n"
   ]
  }
 ],
 "metadata": {
  "kernelspec": {
   "display_name": "Python 3",
   "language": "python",
   "name": "python3"
  },
  "language_info": {
   "codemirror_mode": {
    "name": "ipython",
    "version": 3
   },
   "file_extension": ".py",
   "mimetype": "text/x-python",
   "name": "python",
   "nbconvert_exporter": "python",
   "pygments_lexer": "ipython3",
   "version": "3.6.3"
  }
 },
 "nbformat": 4,
 "nbformat_minor": 2
}
