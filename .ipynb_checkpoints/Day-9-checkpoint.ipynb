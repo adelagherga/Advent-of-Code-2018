{
 "cells": [
  {
   "cell_type": "markdown",
   "metadata": {},
   "source": [
    "# Part 1 #\n",
    "\n",
    "What is the winning Elf's score?"
   ]
  },
  {
   "cell_type": "code",
   "execution_count": 143,
   "metadata": {},
   "outputs": [
    {
     "name": "stdout",
     "output_type": "stream",
     "text": [
      "winner is:  18\n",
      "winning score is:  386151\n"
     ]
    }
   ],
   "source": [
    "file=open('Day-9-Data.txt',\"r\");\n",
    "\n",
    "text = file.readlines()[0];\n",
    "for i in range(0,len(text.split())):\n",
    "    if text.split()[i] == 'players;':\n",
    "        no_players = int(text.split()[i-1]);\n",
    "    if text.split()[i] == 'points':\n",
    "        last_marble = int(text.split()[i-1]);\n",
    "    \n",
    "#test_no_players = 30;\n",
    "#test_last_marble = 5807;\n",
    "\n",
    "marbles = [0];\n",
    "player = 0\n",
    "score = [0 for i in range(0,no_players)];\n",
    "current_marble = 0;\n",
    "for marble_no in range(1,last_marble+1):\n",
    "    player = (player + 1)%no_players;\n",
    "    if player == 0:\n",
    "        player = no_players;\n",
    "    \n",
    "    if marble_no % 23 == 0: # if the marble number is divisible by 23\n",
    "        score[player-1] = score[player-1] + marble_no;\n",
    "        index07 = (current_marble - 7)%len(marbles);\n",
    "        score[player-1] = score[player-1] + marbles.pop(index07);\n",
    "        current_marble = index07\n",
    "\n",
    "    else:\n",
    "        index0 = (current_marble + 1)%len(marbles);\n",
    "        index1 = (current_marble + 2)%len(marbles);\n",
    "        marbles.insert(index0+1,marble_no);\n",
    "        current_marble = index0+1;\n",
    "\n",
    "winner = score.index(max(score))+1;\n",
    "print(\"winner is: \", winner);\n",
    "print(\"winning score is: \", score[winner-1]);\n"
   ]
  },
  {
   "cell_type": "markdown",
   "metadata": {},
   "source": [
    "# Part 2 #\n",
    "\n",
    "What would the new winning Elf's score be if the number of the last marble were 100 times larger?"
   ]
  },
  {
   "cell_type": "code",
   "execution_count": 142,
   "metadata": {},
   "outputs": [
    {
     "name": "stdout",
     "output_type": "stream",
     "text": [
      "18\n",
      "386151\n"
     ]
    }
   ],
   "source": [
    "test_no_players = 30;\n",
    "test_last_marble = 5807;\n",
    "\n",
    "marbles = [0];\n",
    "player = 0\n",
    "score = [0 for i in range(0,no_players)];\n",
    "current_marble = 0;\n",
    "for marble_no in range(1,last_marble+1):\n",
    "    player = (player + 1)%no_players;\n",
    "    if player == 0:\n",
    "        player = no_players;\n",
    "    \n",
    "    if marble_no % 23 == 0: # if the marble number is divisible by 23\n",
    "        score[player-1] = score[player-1] + marble_no;\n",
    "        index07 = (current_marble - 7)%len(marbles);\n",
    "        score[player-1] = score[player-1] + marbles.pop(index07);\n",
    "        current_marble = index07\n",
    "\n",
    "    else:\n",
    "        index0 = (current_marble + 1)%len(marbles);\n",
    "        index1 = (current_marble + 2)%len(marbles);\n",
    "        marbles.insert(index0+1,marble_no);\n",
    "        current_marble = index0+1;\n",
    "\n",
    "winner = score.index(max(score))+1;\n",
    "print(\"winner is: \", winner);\n",
    "print(\"winning score is: \", score[winner-1]);"
   ]
  },
  {
   "cell_type": "code",
   "execution_count": 125,
   "metadata": {},
   "outputs": [
    {
     "name": "stdout",
     "output_type": "stream",
     "text": [
      "[0, 16, 8, 17, 4, 18, 19, 2, 24, 20, 25, 10, 21, 5, 22, 11, 1, 12, 6, 13, 3, 14, 7, 15]\n",
      "7\n",
      "10\n",
      "25\n"
     ]
    }
   ],
   "source": [
    "print(marbles)\n",
    "print(player)\n",
    "print(current_marble)\n",
    "print(marbles[current_marble])"
   ]
  },
  {
   "cell_type": "code",
   "execution_count": 137,
   "metadata": {},
   "outputs": [
    {
     "data": {
      "text/plain": [
       "8317"
      ]
     },
     "execution_count": 137,
     "metadata": {},
     "output_type": "execute_result"
    }
   ],
   "source": [
    "winner\n",
    "score[9]"
   ]
  },
  {
   "cell_type": "code",
   "execution_count": 109,
   "metadata": {},
   "outputs": [
    {
     "data": {
      "text/plain": [
       "[0, 16, 8, 17, 4, 18, 19, 2, 20, 10, 21, 5, 22, 11, 1, 12, 6, 13, 3, 14, 7, 15]"
      ]
     },
     "execution_count": 109,
     "metadata": {},
     "output_type": "execute_result"
    }
   ],
   "source": [
    "marbles"
   ]
  },
  {
   "cell_type": "code",
   "execution_count": 77,
   "metadata": {},
   "outputs": [],
   "source": [
    "#marbles.insert\n",
    "index1 = (current_marble + 1)%len(marbles);\n",
    "index2 = (current_marble + 2)%len(marbles);\n",
    "index1, index2\n",
    "marbles.insert(index1+1,9)\n",
    "current_marble = index1+1"
   ]
  },
  {
   "cell_type": "code",
   "execution_count": 78,
   "metadata": {},
   "outputs": [
    {
     "name": "stdout",
     "output_type": "stream",
     "text": [
      "[0, 8, 4, 9, 2, 5, 1, 6, 3, 7]\n"
     ]
    },
    {
     "data": {
      "text/plain": [
       "3"
      ]
     },
     "execution_count": 78,
     "metadata": {},
     "output_type": "execute_result"
    }
   ],
   "source": [
    "print(marbles)\n",
    "current_marble"
   ]
  },
  {
   "cell_type": "code",
   "execution_count": null,
   "metadata": {
    "collapsed": true
   },
   "outputs": [],
   "source": []
  }
 ],
 "metadata": {
  "kernelspec": {
   "display_name": "Python 3",
   "language": "python",
   "name": "python3"
  },
  "language_info": {
   "codemirror_mode": {
    "name": "ipython",
    "version": 3
   },
   "file_extension": ".py",
   "mimetype": "text/x-python",
   "name": "python",
   "nbconvert_exporter": "python",
   "pygments_lexer": "ipython3",
   "version": "3.6.3"
  }
 },
 "nbformat": 4,
 "nbformat_minor": 2
}
