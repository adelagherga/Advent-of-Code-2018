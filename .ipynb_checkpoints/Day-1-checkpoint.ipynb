{
 "cells": [
  {
   "cell_type": "markdown",
   "metadata": {},
   "source": [
    "# Part 1 #\n",
    "\n",
    "Starting with a frequency of zero, what is the resulting frequency after all of the changes in frequency have been applied?"
   ]
  },
  {
   "cell_type": "code",
   "execution_count": 129,
   "metadata": {},
   "outputs": [
    {
     "name": "stdout",
     "output_type": "stream",
     "text": [
      "590\n"
     ]
    }
   ],
   "source": [
    "file=open('Day-1-Data.txt',\"r\");\n",
    "frequency = 0;\n",
    "for line in file:\n",
    "    frequency = frequency + int(line);\n",
    "    \n",
    "print(frequency);"
   ]
  },
  {
   "cell_type": "markdown",
   "metadata": {},
   "source": [
    "# Part 2 #\n",
    "\n",
    "What is the first frequency your device reaches twice?\n",
    "(Kind of slow code, but eventually reaches the answer)"
   ]
  },
  {
   "cell_type": "code",
   "execution_count": 252,
   "metadata": {},
   "outputs": [
    {
     "name": "stdout",
     "output_type": "stream",
     "text": [
      "Done!\n",
      "83445\n"
     ]
    }
   ],
   "source": [
    "file=open('Day-1-Data.txt',\"r\");\n",
    "data = file.readlines()\n",
    "f = 0;\n",
    "freq = [0];\n",
    "i = 0;\n",
    "while i < len(data):\n",
    "    f = f + int(data[i])\n",
    "    if (f not in freq):\n",
    "        freq.append(f);\n",
    "        if i == len(data) - 1:\n",
    "            i = 0;\n",
    "        else:\n",
    "            i = i + 1;\n",
    "    else:\n",
    "        print(\"Done!\");\n",
    "        print(f);\n",
    "        i = len(data) + 10;\n",
    "        "
   ]
  }
 ],
 "metadata": {
  "kernelspec": {
   "display_name": "Python 3",
   "language": "python",
   "name": "python3"
  },
  "language_info": {
   "codemirror_mode": {
    "name": "ipython",
    "version": 3
   },
   "file_extension": ".py",
   "mimetype": "text/x-python",
   "name": "python",
   "nbconvert_exporter": "python",
   "pygments_lexer": "ipython3",
   "version": "3.6.3"
  }
 },
 "nbformat": 4,
 "nbformat_minor": 2
}
