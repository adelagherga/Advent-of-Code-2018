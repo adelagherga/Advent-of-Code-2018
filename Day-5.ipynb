{
 "cells": [
  {
   "cell_type": "markdown",
   "metadata": {},
   "source": [
    "# Part 1 #\n",
    "\n",
    "How many units remain after fully reacting the polymer you scanned? "
   ]
  },
  {
   "cell_type": "code",
   "execution_count": 234,
   "metadata": {},
   "outputs": [
    {
     "name": "stdout",
     "output_type": "stream",
     "text": [
      "9154\n"
     ]
    }
   ],
   "source": [
    "file=open('Day-5-Data.txt',\"r\");\n",
    "\n",
    "text = file.readlines();\n",
    "text = text[0].replace('\\n',''); # removes '\\n' characters at the end of each line\n",
    "\n",
    "def PolymerReaction(text):\n",
    "    StillRunning = True;\n",
    "\n",
    "    while StillRunning:\n",
    "        i = 0\n",
    "        length = len(text)-1;\n",
    "        oldlength = length;\n",
    "        nutext = text\n",
    "        while i <= length-1:\n",
    "            if text[i] == text[i+1].swapcase():\n",
    "                nutext = text[:i] + text[i+2:]\n",
    "                text = nutext;\n",
    "                oldlength = length;\n",
    "                length = len(nutext)-1;\n",
    "\n",
    "            i = i + 1;\n",
    "\n",
    "        if oldlength == length:\n",
    "            StillRunning = False\n",
    "    return text;\n",
    "print(len(PolymerReaction(text)))\n"
   ]
  },
  {
   "cell_type": "markdown",
   "metadata": {},
   "source": [
    "# Part 2 #\n",
    "\n",
    "What is the length of the shortest polymer you can produce by removing all units of exactly one type and fully reacting the result?\n"
   ]
  },
  {
   "cell_type": "code",
   "execution_count": 258,
   "metadata": {},
   "outputs": [
    {
     "name": "stdout",
     "output_type": "stream",
     "text": [
      "8844\n",
      "8806\n",
      "8772\n",
      "8780\n",
      "4556\n",
      "8768\n",
      "8774\n",
      "8798\n",
      "8780\n",
      "8808\n",
      "8774\n",
      "8770\n",
      "8768\n",
      "8776\n",
      "8798\n",
      "8808\n",
      "8766\n",
      "8802\n",
      "8808\n",
      "8780\n",
      "8798\n",
      "8746\n",
      "8780\n",
      "8742\n",
      "8854\n",
      "8756\n"
     ]
    }
   ],
   "source": [
    "from string import ascii_lowercase\n",
    "from string import ascii_uppercase\n",
    "\n",
    "file=open('Day-5-Data.txt',\"r\");\n",
    "\n",
    "text = file.readlines();\n",
    "text = text[0].replace('\\n',''); # removes '\\n' characters at the end of each line\n",
    "\n",
    "original = text;\n",
    "L = []\n",
    "for x in ascii_lowercase:\n",
    "    text = original\n",
    "    i = 0\n",
    "    length = len(text);\n",
    "    nutext = text\n",
    "    while i <= length-1:\n",
    "        if text[i] == x or text[i] == x.upper():\n",
    "            nutext = text[:i] + text[i+1:]\n",
    "            text = nutext;\n",
    "            length = len(nutext);\n",
    "        else:\n",
    "            i = i + 1\n",
    "        \n",
    "    #print(len(PolymerReaction(text)))\n",
    "    L.append(len(PolymerReaction(text)))"
   ]
  },
  {
   "cell_type": "code",
   "execution_count": 259,
   "metadata": {},
   "outputs": [
    {
     "name": "stdout",
     "output_type": "stream",
     "text": [
      "4556\n"
     ]
    }
   ],
   "source": [
    "print(min(L))"
   ]
  }
 ],
 "metadata": {
  "kernelspec": {
   "display_name": "Python 3",
   "language": "python",
   "name": "python3"
  },
  "language_info": {
   "codemirror_mode": {
    "name": "ipython",
    "version": 3
   },
   "file_extension": ".py",
   "mimetype": "text/x-python",
   "name": "python",
   "nbconvert_exporter": "python",
   "pygments_lexer": "ipython3",
   "version": "3.6.3"
  }
 },
 "nbformat": 4,
 "nbformat_minor": 2
}
